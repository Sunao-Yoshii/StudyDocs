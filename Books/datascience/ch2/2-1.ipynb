{
 "cells": [
  {
   "cell_type": "markdown",
   "metadata": {},
   "source": [
    "## 利用する系のライブラリ"
   ]
  },
  {
   "cell_type": "code",
   "execution_count": 7,
   "metadata": {},
   "outputs": [
    {
     "data": {
      "text/plain": [
       "'%.3f'"
      ]
     },
     "execution_count": 7,
     "metadata": {},
     "output_type": "execute_result"
    }
   ],
   "source": [
    "# データ解析、機械学習系\n",
    "import numpy as np\n",
    "import numpy.random as random\n",
    "import scipy as sp\n",
    "import pandas as pd\n",
    "from pandas import Series, DataFrame\n",
    "\n",
    "# 可視化系\n",
    "import matplotlib.pyplot as plt\n",
    "import matplotlib as mpl\n",
    "import seaborn as sns\n",
    "\n",
    "%matplotlib inline\n",
    "%precision 3"
   ]
  },
  {
   "cell_type": "markdown",
   "metadata": {},
   "source": [
    "## マジックコマンド\n",
    "\n",
    "jupiter notebook の機能群\n",
    "\n",
    "* `%run` 外部コマンドの実行\n",
    "* `%cp` ファイルのコピー\n",
    "* `%time` 時間の計測\n",
    "* `%precision` numpy 拡張。表示する場合の有効桁数を指定する。\n",
    "* `%matplotlib` Matplotlib 拡張。グラフなどの表示法を設定できる。inline など。\n",
    "* `%quickref` コマンドの一覧表示など\n",
    "\n",
    "## numpy 近辺"
   ]
  },
  {
   "cell_type": "code",
   "execution_count": 12,
   "metadata": {},
   "outputs": [
    {
     "data": {
      "text/plain": [
       "dtype('int64')"
      ]
     },
     "execution_count": 12,
     "metadata": {},
     "output_type": "execute_result"
    }
   ],
   "source": [
    "# use array.\n",
    "example_array = np.array([1, 4,  8, 16, 6, 8, 1, 5])\n",
    "\n",
    "# tab key on after dot(.) to code complete\n",
    "example_array.dtype"
   ]
  },
  {
   "cell_type": "code",
   "execution_count": 13,
   "metadata": {},
   "outputs": [
    {
     "data": {
      "text/plain": [
       "array([ 2,  8, 16, 32, 12, 16,  2, 10])"
      ]
     },
     "execution_count": 13,
     "metadata": {},
     "output_type": "execute_result"
    }
   ],
   "source": [
    "# scalr multiple (standard calc type are always scalared effective)\n",
    "example_array * 2"
   ]
  },
  {
   "cell_type": "code",
   "execution_count": 15,
   "metadata": {},
   "outputs": [
    {
     "data": {
      "text/plain": [
       "array([ 1,  1,  4,  5,  6,  8,  8, 16])"
      ]
     },
     "execution_count": 15,
     "metadata": {},
     "output_type": "execute_result"
    }
   ],
   "source": [
    "# sort is a side-effected function\n",
    "example_array.sort()\n",
    "example_array"
   ]
  },
  {
   "cell_type": "code",
   "execution_count": 18,
   "metadata": {},
   "outputs": [
    {
     "name": "stdout",
     "output_type": "stream",
     "text": [
      "Default: [ 1  1  4  5  6  8  8 16]\n",
      "Max: 16\n",
      "Min: 1\n",
      "Sum: 49\n",
      "Cum: [ 1  2  6 11 17 25 33 49]\n",
      "Ratio: [0.02  0.041 0.122 0.224 0.347 0.51  0.673 1.   ]\n"
     ]
    }
   ],
   "source": [
    "# array function as method.\n",
    "print(f'Default: {example_array}')\n",
    "print(f'Max: {example_array.max()}')\n",
    "print(f'Min: {example_array.min()}')\n",
    "print(f'Sum: {example_array.sum()}')\n",
    "print(f'Cum: {example_array.cumsum()}')\n",
    "print(f'Ratio: {example_array.cumsum() / example_array.sum()}')"
   ]
  },
  {
   "cell_type": "code",
   "execution_count": 20,
   "metadata": {},
   "outputs": [
    {
     "data": {
      "text/plain": [
       "array([ 1.764,  0.4  ,  0.979,  2.241,  1.868, -0.977,  0.95 , -0.151,\n",
       "       -0.103,  0.411])"
      ]
     },
     "execution_count": 20,
     "metadata": {},
     "output_type": "execute_result"
    }
   ],
   "source": [
    "# random variables\n",
    "random.seed(0)\n",
    "rand_data = random.randn(10)\n",
    "rand_data"
   ]
  },
  {
   "cell_type": "code",
   "execution_count": 21,
   "metadata": {},
   "outputs": [
    {
     "data": {
      "text/plain": [
       "array([ 8, 16, 16,  8,  1])"
      ]
     },
     "execution_count": 21,
     "metadata": {},
     "output_type": "execute_result"
    }
   ],
   "source": [
    "# random data choice\n",
    "random.choice(example_array, 5)"
   ]
  },
  {
   "cell_type": "code",
   "execution_count": 22,
   "metadata": {},
   "outputs": [
    {
     "data": {
      "text/plain": [
       "array([4, 5, 6, 8, 1])"
      ]
     },
     "execution_count": 22,
     "metadata": {},
     "output_type": "execute_result"
    }
   ],
   "source": [
    "# with no duplicate.\n",
    "random.choice(example_array, 5, replace=False)"
   ]
  },
  {
   "cell_type": "markdown",
   "metadata": {},
   "source": [
    "## 行列近辺の扱い"
   ]
  },
  {
   "cell_type": "code",
   "execution_count": 24,
   "metadata": {},
   "outputs": [
    {
     "name": "stdout",
     "output_type": "stream",
     "text": [
      "[0 1 2 3 4 5 6 7 8]\n",
      "[[0 1 2]\n",
      " [3 4 5]\n",
      " [6 7 8]]\n"
     ]
    }
   ],
   "source": [
    "# create array\n",
    "as_array = np.arange(9)\n",
    "print(as_array)\n",
    "\n",
    "# to matrix\n",
    "as_mtx = as_array.reshape(3, 3)\n",
    "print(as_mtx)"
   ]
  },
  {
   "cell_type": "code",
   "execution_count": 25,
   "metadata": {},
   "outputs": [
    {
     "name": "stdout",
     "output_type": "stream",
     "text": [
      "[[ 9 10 11]\n",
      " [12 13 14]\n",
      " [15 16 17]]\n"
     ]
    }
   ],
   "source": [
    "array2 = np.arange(9, 18).reshape(3, 3)\n",
    "print(array2)"
   ]
  },
  {
   "cell_type": "code",
   "execution_count": 26,
   "metadata": {},
   "outputs": [
    {
     "data": {
      "text/plain": [
       "array([[ 42,  45,  48],\n",
       "       [150, 162, 174],\n",
       "       [258, 279, 300]])"
      ]
     },
     "execution_count": 26,
     "metadata": {},
     "output_type": "execute_result"
    }
   ],
   "source": [
    "np.dot(as_mtx, array2)"
   ]
  },
  {
   "cell_type": "code",
   "execution_count": 27,
   "metadata": {},
   "outputs": [
    {
     "data": {
      "text/plain": [
       "array([[  0,  10,  22],\n",
       "       [ 36,  52,  70],\n",
       "       [ 90, 112, 136]])"
      ]
     },
     "execution_count": 27,
     "metadata": {},
     "output_type": "execute_result"
    }
   ],
   "source": [
    "as_mtx * array2"
   ]
  },
  {
   "cell_type": "markdown",
   "metadata": {},
   "source": [
    "## 演習問題"
   ]
  },
  {
   "cell_type": "code",
   "execution_count": 32,
   "metadata": {},
   "outputs": [
    {
     "name": "stdout",
     "output_type": "stream",
     "text": [
      "1275\n",
      "Min : -0.977277879876411\n",
      "Max : 2.240893199201458\n",
      "Sum : 7.380231707288347\n",
      "[[3 3 3 3 3]\n",
      " [3 3 3 3 3]\n",
      " [3 3 3 3 3]\n",
      " [3 3 3 3 3]\n",
      " [3 3 3 3 3]]\n",
      "[[9 9 9 9 9]\n",
      " [9 9 9 9 9]\n",
      " [9 9 9 9 9]\n",
      " [9 9 9 9 9]\n",
      " [9 9 9 9 9]]\n"
     ]
    }
   ],
   "source": [
    "# 1. 1-50 の自然数の和を計算\n",
    "print((np.arange(50) + 1).sum())\n",
    "\n",
    "# 2. 乱数を 10 個作って、最小、最大、合計を計算\n",
    "random.seed(0)\n",
    "rand_arr = random.randn(10)\n",
    "print(f'Min : {rand_arr.min()}')\n",
    "print(f'Max : {rand_arr.max()}')\n",
    "print(f'Sum : {rand_arr.sum()}')\n",
    "\n",
    "# 3. 要素全てが 3 の 5x5 行列作成、その 2 乗を計算\n",
    "all_three = np.ones((5, 5), dtype=np.int32) * 3\n",
    "print(all_three)\n",
    "print(all_three ** 2)"
   ]
  },
  {
   "cell_type": "markdown",
   "metadata": {},
   "source": []
  }
 ],
 "metadata": {
  "kernelspec": {
   "display_name": "Python 3",
   "language": "python",
   "name": "python3"
  },
  "language_info": {
   "codemirror_mode": {
    "name": "ipython",
    "version": 3
   },
   "file_extension": ".py",
   "mimetype": "text/x-python",
   "name": "python",
   "nbconvert_exporter": "python",
   "pygments_lexer": "ipython3",
   "version": "3.6.8"
  }
 },
 "nbformat": 4,
 "nbformat_minor": 2
}
