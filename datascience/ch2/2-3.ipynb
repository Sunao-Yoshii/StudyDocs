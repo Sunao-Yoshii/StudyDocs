{
 "cells": [
  {
   "cell_type": "code",
   "execution_count": 1,
   "metadata": {},
   "outputs": [
    {
     "data": {
      "text/plain": [
       "'%.3f'"
      ]
     },
     "execution_count": 1,
     "metadata": {},
     "output_type": "execute_result"
    }
   ],
   "source": [
    "# データ解析、機械学習系\n",
    "import numpy as np\n",
    "import numpy.random as random\n",
    "import scipy as sp\n",
    "import pandas as pd\n",
    "from pandas import Series, DataFrame\n",
    "\n",
    "# 可視化系\n",
    "import matplotlib.pyplot as plt\n",
    "import matplotlib as mpl\n",
    "import seaborn as sns\n",
    "\n",
    "%matplotlib inline\n",
    "%precision 3"
   ]
  },
  {
   "cell_type": "markdown",
   "metadata": {},
   "source": [
    "## Scipy"
   ]
  },
  {
   "cell_type": "code",
   "execution_count": 3,
   "metadata": {},
   "outputs": [],
   "source": [
    "# Library of linear algebra\n",
    "import scipy.linalg as linalg"
   ]
  },
  {
   "cell_type": "code",
   "execution_count": 8,
   "metadata": {},
   "outputs": [
    {
     "name": "stdout",
     "output_type": "stream",
     "text": [
      "行列式 : -4.0\n"
     ]
    }
   ],
   "source": [
    "matrix = np.array([[1, -1, -1], [-1, 1, -1], [-1, -1, 1]])\n",
    "print(f'行列式 : {linalg.det(matrix)}')"
   ]
  },
  {
   "cell_type": "code",
   "execution_count": 10,
   "metadata": {},
   "outputs": [
    {
     "name": "stdout",
     "output_type": "stream",
     "text": [
      "逆行列 :\n",
      "[[ 0.  -0.5 -0.5]\n",
      " [-0.5 -0.  -0.5]\n",
      " [-0.5 -0.5  0. ]]\n",
      "Dot積 : \n",
      "[[1. 0. 0.]\n",
      " [0. 1. 0.]\n",
      " [0. 0. 1.]]\n"
     ]
    }
   ],
   "source": [
    "inv_matrix = linalg.inv(matrix)\n",
    "print(f'逆行列 :\\n{inv_matrix}')\n",
    "print(f'Dot積 : \\n{ matrix.dot(inv_matrix) }')"
   ]
  },
  {
   "cell_type": "code",
   "execution_count": 11,
   "metadata": {},
   "outputs": [
    {
     "name": "stdout",
     "output_type": "stream",
     "text": [
      "固有値 : \n",
      "[-1.+0.j  2.+0.j  2.+0.j]\n",
      "固有ベクトル : \n",
      "[[ 0.577 -0.816  0.428]\n",
      " [ 0.577  0.408 -0.816]\n",
      " [ 0.577  0.408  0.389]]\n"
     ]
    }
   ],
   "source": [
    "eig_value, eig_vector = linalg.eig(matrix)\n",
    "print(f'固有値 : \\n{eig_value}')\n",
    "print(f'固有ベクトル : \\n{eig_vector}')"
   ]
  },
  {
   "cell_type": "markdown",
   "metadata": {},
   "source": [
    "## ニュートン法\n",
    "\n",
    "https://qiita.com/PlanetMeron/items/09d7eb204868e1a49f49\n",
    "\n",
    "平たく言うと、不明な関数 f に対して、最小値（仮に 0 とする）を求める為に、\n",
    "\n",
    "1. f の適当な位置（開始位置 x）の接線を作る\n",
    "2. 接線が 0 となる地点の x2 を求める\n",
    "3. f の x2 地点の接線を求める…\n",
    "\n",
    "というループを行なって、特定ポイントの座標を計算しようと言う話。  \n",
    "これ最急降下法とどっちが計算回数が…と思ったけど、こっちのが早いわ（汗\n",
    "\n",
    "でも考え方から言って適用できる関数には限界がありそう。"
   ]
  },
  {
   "cell_type": "code",
   "execution_count": 12,
   "metadata": {},
   "outputs": [
    {
     "name": "stdout",
     "output_type": "stream",
     "text": [
      "-0.9999999852953906\n"
     ]
    }
   ],
   "source": [
    "# 求めたい関数\n",
    "def my_function(x):\n",
    "    return x**2 + 2*x + 1\n",
    "\n",
    "\n",
    "# scipy にある関数ロード\n",
    "from scipy.optimize import newton\n",
    "print(newton(my_function, 0))"
   ]
  },
  {
   "cell_type": "code",
   "execution_count": 13,
   "metadata": {},
   "outputs": [
    {
     "name": "stdout",
     "output_type": "stream",
     "text": [
      "     fun: 0.0\n",
      "    nfev: 9\n",
      "     nit: 4\n",
      " success: True\n",
      "       x: -1.0000000000000002\n"
     ]
    }
   ],
   "source": [
    "# 最小値を求めてみる\n",
    "# (Minimum) optimization calculation library\n",
    "from  scipy.optimize import minimize_scalar\n",
    "\n",
    "print(minimize_scalar(my_function, method = 'Brent'))"
   ]
  },
  {
   "cell_type": "markdown",
   "metadata": {},
   "source": [
    "ふとやってて思った、部分最適解に捕まったりしないのかなと。"
   ]
  },
  {
   "cell_type": "code",
   "execution_count": 20,
   "metadata": {},
   "outputs": [
    {
     "name": "stdout",
     "output_type": "stream",
     "text": [
      "     fun: -45.594753219481596\n",
      "    nfev: 22\n",
      "     nit: 14\n",
      " success: True\n",
      "       x: -32.7120754862274\n"
     ]
    }
   ],
   "source": [
    "from math import sin\n",
    "def my_function(x):\n",
    "    return x**2 / 20 + 3*x + sin(x)\n",
    "\n",
    "print(minimize_scalar(my_function, method = 'Brent'))"
   ]
  },
  {
   "cell_type": "code",
   "execution_count": 21,
   "metadata": {},
   "outputs": [
    {
     "data": {
      "text/plain": [
       "[<matplotlib.lines.Line2D at 0x1a1cc8d828>]"
      ]
     },
     "execution_count": 21,
     "metadata": {},
     "output_type": "execute_result"
    },
    {
     "data": {
      "image/png": "[encoded data removed]",
      "text/plain": [
       "<Figure size 432x288 with 1 Axes>"
      ]
     },
     "metadata": {
      "needs_background": "light"
     },
     "output_type": "display_data"
    }
   ],
   "source": [
    "x = np.linspace(-40, 0, 800)\n",
    "y = [my_function(n) for n in x]\n",
    "plt.plot(x, y, label=\"test\")"
   ]
  },
  {
   "cell_type": "markdown",
   "metadata": {},
   "source": [
    "おー局所解にハマってない！\n",
    "\n",
    "## 演習問題"
   ]
  },
  {
   "cell_type": "code",
   "execution_count": 23,
   "metadata": {},
   "outputs": [
    {
     "name": "stdout",
     "output_type": "stream",
     "text": [
      "行列式: \n",
      "-12.000000000000002\n"
     ]
    }
   ],
   "source": [
    "# 1. 次の行列式を求めよ\n",
    "A = np.array([\n",
    "    [1, 2, 3],\n",
    "    [1, 3, 2],\n",
    "    [3, 1, 2]\n",
    "])\n",
    "print(f'行列式: \\n{ linalg.det(A) }')"
   ]
  },
  {
   "cell_type": "code",
   "execution_count": 24,
   "metadata": {},
   "outputs": [
    {
     "name": "stdout",
     "output_type": "stream",
     "text": [
      "逆行列:\n",
      "[[-0.333  0.083  0.417]\n",
      " [-0.333  0.583 -0.083]\n",
      " [ 0.667 -0.417 -0.083]]\n",
      "固有値:\n",
      "[ 6.   +0.j -1.414+0.j  1.414+0.j]\n",
      "固有ベクトル:\n",
      "[[-0.577 -0.722  0.16 ]\n",
      " [-0.577 -0.143 -0.811]\n",
      " [-0.577  0.677  0.563]]\n"
     ]
    }
   ],
   "source": [
    "# 2. 逆行列と固有値・固有ベクトルの取得\n",
    "inv_matrix = linalg.inv(A)\n",
    "eig_value, eig_vector = linalg.eig(A)\n",
    "print(f'逆行列:\\n{ inv_matrix }')\n",
    "print(f'固有値:\\n{ eig_value }')\n",
    "print(f'固有ベクトル:\\n{ eig_vector}')"
   ]
  },
  {
   "cell_type": "code",
   "execution_count": 25,
   "metadata": {},
   "outputs": [
    {
     "name": "stdout",
     "output_type": "stream",
     "text": [
      "-0.45339765151640365\n"
     ]
    }
   ],
   "source": [
    "# 3. ニュートン法で 0 となる地点を探せ\n",
    "def exercise(x):\n",
    "    return x**3 + 2*x + 1\n",
    "print(newton(exercise, 0))"
   ]
  }
 ],
 "metadata": {
  "kernelspec": {
   "display_name": "Python 3",
   "language": "python",
   "name": "python3"
  },
  "language_info": {
   "codemirror_mode": {
    "name": "ipython",
    "version": 3
   },
   "file_extension": ".py",
   "mimetype": "text/x-python",
   "name": "python",
   "nbconvert_exporter": "python",
   "pygments_lexer": "ipython3",
   "version": "3.6.8"
  }
 },
 "nbformat": 4,
 "nbformat_minor": 2
}
