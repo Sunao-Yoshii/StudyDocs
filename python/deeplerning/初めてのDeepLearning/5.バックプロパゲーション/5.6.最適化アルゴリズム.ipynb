{
 "metadata": {
  "language_info": {
   "codemirror_mode": {
    "name": "ipython",
    "version": 3
   },
   "file_extension": ".py",
   "mimetype": "text/x-python",
   "name": "python",
   "nbconvert_exporter": "python",
   "pygments_lexer": "ipython3",
   "version": "3.8.5-final"
  },
  "orig_nbformat": 2,
  "kernelspec": {
   "name": "python3",
   "display_name": "Python 3.8.5 64-bit (conda)",
   "metadata": {
    "interpreter": {
     "hash": "73e03da126b73bfff3642ec5261d56fa25c444ea595de51041687efaa60dda41"
    }
   }
  }
 },
 "nbformat": 4,
 "nbformat_minor": 2,
 "cells": [
  {
   "source": [
    "### 最適化アルゴリズム\n",
    "\n",
    "単純に勾配降下法を適用すると、局所解に捕まる問題は先に述べた通り。  \n",
    "分かりやすくサンプルを考えてみると"
   ],
   "cell_type": "markdown",
   "metadata": {}
  },
  {
   "cell_type": "code",
   "execution_count": 16,
   "metadata": {},
   "outputs": [
    {
     "output_type": "display_data",
     "data": {
      "text/plain": "<Figure size 432x288 with 1 Axes>",
      "image/svg+xml": "<?xml version=\"1.0\" encoding=\"utf-8\" standalone=\"no\"?>\r\n<!DOCTYPE svg PUBLIC \"-//W3C//DTD SVG 1.1//EN\"\r\n  \"http://www.w3.org/Graphics/SVG/1.1/DTD/svg11.dtd\">\r\n<!-- Created with matplotlib (https://matplotlib.org/) -->\r\n<svg height=\"248.518125pt\" version=\"1.1\" viewBox=\"0 0 381.65 248.518125\" width=\"381.65pt\" xmlns=\"http://www.w3.org/2000/svg\" xmlns:xlink=\"http://www.w3.org/1999/xlink\">\r\n <metadata>\r\n  <rdf:RDF xmlns:cc=\"http://creativecommons.org/ns#\" xmlns:dc=\"http://purl.org/dc/elements/1.1/\" xmlns:rdf=\"http://www.w3.org/1999/02/22-rdf-syntax-ns#\">\r\n   <cc:Work>\r\n    <dc:type rdf:resource=\"http://purl.org/dc/dcmitype/StillImage\"/>\r\n    <dc:date>2021-03-03T19:37:54.274999</dc:date>\r\n    <dc:format>image/svg+xml</dc:format>\r\n    <dc:creator>\r\n     <cc:Agent>\r\n      <dc:title>Matplotlib v3.3.2, https://matplotlib.org/</dc:title>\r\n     </cc:Agent>\r\n    </dc:creator>\r\n   </cc:Work>\r\n  </rdf:RDF>\r\n </metadata>\r\n <defs>\r\n  <style type=\"text/css\">*{stroke-linecap:butt;stroke-linejoin:round;}</style>\r\n </defs>\r\n <g id=\"figure_1\">\r\n  <g id=\"patch_1\">\r\n   <path d=\"M -0 248.518125 \r\nL 381.65 248.518125 \r\nL 381.65 0 \r\nL -0 0 \r\nz\r\n\" style=\"fill:none;\"/>\r\n  </g>\r\n  <g id=\"axes_1\">\r\n   <g id=\"patch_2\">\r\n    <path d=\"M 39.65 224.64 \r\nL 374.45 224.64 \r\nL 374.45 7.2 \r\nL 39.65 7.2 \r\nz\r\n\" style=\"fill:#ffffff;\"/>\r\n   </g>\r\n   <g id=\"matplotlib.axis_1\">\r\n    <g id=\"xtick_1\">\r\n     <g id=\"line2d_1\">\r\n      <defs>\r\n       <path d=\"M 0 0 \r\nL 0 3.5 \r\n\" id=\"md790639190\" style=\"stroke:#000000;stroke-width:0.8;\"/>\r\n      </defs>\r\n      <g>\r\n       <use style=\"stroke:#000000;stroke-width:0.8;\" x=\"54.868182\" xlink:href=\"#md790639190\" y=\"224.64\"/>\r\n      </g>\r\n     </g>\r\n     <g id=\"text_1\">\r\n      <!-- −10.0 -->\r\n      <g transform=\"translate(39.545526 239.238437)scale(0.1 -0.1)\">\r\n       <defs>\r\n        <path d=\"M 10.59375 35.5 \r\nL 73.1875 35.5 \r\nL 73.1875 27.203125 \r\nL 10.59375 27.203125 \r\nz\r\n\" id=\"DejaVuSans-8722\"/>\r\n        <path d=\"M 12.40625 8.296875 \r\nL 28.515625 8.296875 \r\nL 28.515625 63.921875 \r\nL 10.984375 60.40625 \r\nL 10.984375 69.390625 \r\nL 28.421875 72.90625 \r\nL 38.28125 72.90625 \r\nL 38.28125 8.296875 \r\nL 54.390625 8.296875 \r\nL 54.390625 0 \r\nL 12.40625 0 \r\nz\r\n\" id=\"DejaVuSans-49\"/>\r\n        <path d=\"M 31.78125 66.40625 \r\nQ 24.171875 66.40625 20.328125 58.90625 \r\nQ 16.5 51.421875 16.5 36.375 \r\nQ 16.5 21.390625 20.328125 13.890625 \r\nQ 24.171875 6.390625 31.78125 6.390625 \r\nQ 39.453125 6.390625 43.28125 13.890625 \r\nQ 47.125 21.390625 47.125 36.375 \r\nQ 47.125 51.421875 43.28125 58.90625 \r\nQ 39.453125 66.40625 31.78125 66.40625 \r\nz\r\nM 31.78125 74.21875 \r\nQ 44.046875 74.21875 50.515625 64.515625 \r\nQ 56.984375 54.828125 56.984375 36.375 \r\nQ 56.984375 17.96875 50.515625 8.265625 \r\nQ 44.046875 -1.421875 31.78125 -1.421875 \r\nQ 19.53125 -1.421875 13.0625 8.265625 \r\nQ 6.59375 17.96875 6.59375 36.375 \r\nQ 6.59375 54.828125 13.0625 64.515625 \r\nQ 19.53125 74.21875 31.78125 74.21875 \r\nz\r\n\" id=\"DejaVuSans-48\"/>\r\n        <path d=\"M 10.6875 12.40625 \r\nL 21 12.40625 \r\nL 21 0 \r\nL 10.6875 0 \r\nz\r\n\" id=\"DejaVuSans-46\"/>\r\n       </defs>\r\n       <use xlink:href=\"#DejaVuSans-8722\"/>\r\n       <use x=\"83.789062\" xlink:href=\"#DejaVuSans-49\"/>\r\n       <use x=\"147.412109\" xlink:href=\"#DejaVuSans-48\"/>\r\n       <use x=\"211.035156\" xlink:href=\"#DejaVuSans-46\"/>\r\n       <use x=\"242.822266\" xlink:href=\"#DejaVuSans-48\"/>\r\n      </g>\r\n     </g>\r\n    </g>\r\n    <g id=\"xtick_2\">\r\n     <g id=\"line2d_2\">\r\n      <g>\r\n       <use style=\"stroke:#000000;stroke-width:0.8;\" x=\"92.95172\" xlink:href=\"#md790639190\" y=\"224.64\"/>\r\n      </g>\r\n     </g>\r\n     <g id=\"text_2\">\r\n      <!-- −7.5 -->\r\n      <g transform=\"translate(80.810314 239.238437)scale(0.1 -0.1)\">\r\n       <defs>\r\n        <path d=\"M 8.203125 72.90625 \r\nL 55.078125 72.90625 \r\nL 55.078125 68.703125 \r\nL 28.609375 0 \r\nL 18.3125 0 \r\nL 43.21875 64.59375 \r\nL 8.203125 64.59375 \r\nz\r\n\" id=\"DejaVuSans-55\"/>\r\n        <path d=\"M 10.796875 72.90625 \r\nL 49.515625 72.90625 \r\nL 49.515625 64.59375 \r\nL 19.828125 64.59375 \r\nL 19.828125 46.734375 \r\nQ 21.96875 47.46875 24.109375 47.828125 \r\nQ 26.265625 48.1875 28.421875 48.1875 \r\nQ 40.625 48.1875 47.75 41.5 \r\nQ 54.890625 34.8125 54.890625 23.390625 \r\nQ 54.890625 11.625 47.5625 5.09375 \r\nQ 40.234375 -1.421875 26.90625 -1.421875 \r\nQ 22.3125 -1.421875 17.546875 -0.640625 \r\nQ 12.796875 0.140625 7.71875 1.703125 \r\nL 7.71875 11.625 \r\nQ 12.109375 9.234375 16.796875 8.0625 \r\nQ 21.484375 6.890625 26.703125 6.890625 \r\nQ 35.15625 6.890625 40.078125 11.328125 \r\nQ 45.015625 15.765625 45.015625 23.390625 \r\nQ 45.015625 31 40.078125 35.4375 \r\nQ 35.15625 39.890625 26.703125 39.890625 \r\nQ 22.75 39.890625 18.8125 39.015625 \r\nQ 14.890625 38.140625 10.796875 36.28125 \r\nz\r\n\" id=\"DejaVuSans-53\"/>\r\n       </defs>\r\n       <use xlink:href=\"#DejaVuSans-8722\"/>\r\n       <use x=\"83.789062\" xlink:href=\"#DejaVuSans-55\"/>\r\n       <use x=\"147.412109\" xlink:href=\"#DejaVuSans-46\"/>\r\n       <use x=\"179.199219\" xlink:href=\"#DejaVuSans-53\"/>\r\n      </g>\r\n     </g>\r\n    </g>\r\n    <g id=\"xtick_3\">\r\n     <g id=\"line2d_3\">\r\n      <g>\r\n       <use style=\"stroke:#000000;stroke-width:0.8;\" x=\"131.035258\" xlink:href=\"#md790639190\" y=\"224.64\"/>\r\n      </g>\r\n     </g>\r\n     <g id=\"text_3\">\r\n      <!-- −5.0 -->\r\n      <g transform=\"translate(118.893852 239.238437)scale(0.1 -0.1)\">\r\n       <use xlink:href=\"#DejaVuSans-8722\"/>\r\n       <use x=\"83.789062\" xlink:href=\"#DejaVuSans-53\"/>\r\n       <use x=\"147.412109\" xlink:href=\"#DejaVuSans-46\"/>\r\n       <use x=\"179.199219\" xlink:href=\"#DejaVuSans-48\"/>\r\n      </g>\r\n     </g>\r\n    </g>\r\n    <g id=\"xtick_4\">\r\n     <g id=\"line2d_4\">\r\n      <g>\r\n       <use style=\"stroke:#000000;stroke-width:0.8;\" x=\"169.118796\" xlink:href=\"#md790639190\" y=\"224.64\"/>\r\n      </g>\r\n     </g>\r\n     <g id=\"text_4\">\r\n      <!-- −2.5 -->\r\n      <g transform=\"translate(156.97739 239.238437)scale(0.1 -0.1)\">\r\n       <defs>\r\n        <path d=\"M 19.1875 8.296875 \r\nL 53.609375 8.296875 \r\nL 53.609375 0 \r\nL 7.328125 0 \r\nL 7.328125 8.296875 \r\nQ 12.9375 14.109375 22.625 23.890625 \r\nQ 32.328125 33.6875 34.8125 36.53125 \r\nQ 39.546875 41.84375 41.421875 45.53125 \r\nQ 43.3125 49.21875 43.3125 52.78125 \r\nQ 43.3125 58.59375 39.234375 62.25 \r\nQ 35.15625 65.921875 28.609375 65.921875 \r\nQ 23.96875 65.921875 18.8125 64.3125 \r\nQ 13.671875 62.703125 7.8125 59.421875 \r\nL 7.8125 69.390625 \r\nQ 13.765625 71.78125 18.9375 73 \r\nQ 24.125 74.21875 28.421875 74.21875 \r\nQ 39.75 74.21875 46.484375 68.546875 \r\nQ 53.21875 62.890625 53.21875 53.421875 \r\nQ 53.21875 48.921875 51.53125 44.890625 \r\nQ 49.859375 40.875 45.40625 35.40625 \r\nQ 44.1875 33.984375 37.640625 27.21875 \r\nQ 31.109375 20.453125 19.1875 8.296875 \r\nz\r\n\" id=\"DejaVuSans-50\"/>\r\n       </defs>\r\n       <use xlink:href=\"#DejaVuSans-8722\"/>\r\n       <use x=\"83.789062\" xlink:href=\"#DejaVuSans-50\"/>\r\n       <use x=\"147.412109\" xlink:href=\"#DejaVuSans-46\"/>\r\n       <use x=\"179.199219\" xlink:href=\"#DejaVuSans-53\"/>\r\n      </g>\r\n     </g>\r\n    </g>\r\n    <g id=\"xtick_5\">\r\n     <g id=\"line2d_5\">\r\n      <g>\r\n       <use style=\"stroke:#000000;stroke-width:0.8;\" x=\"207.202334\" xlink:href=\"#md790639190\" y=\"224.64\"/>\r\n      </g>\r\n     </g>\r\n     <g id=\"text_5\">\r\n      <!-- 0.0 -->\r\n      <g transform=\"translate(199.250772 239.238437)scale(0.1 -0.1)\">\r\n       <use xlink:href=\"#DejaVuSans-48\"/>\r\n       <use x=\"63.623047\" xlink:href=\"#DejaVuSans-46\"/>\r\n       <use x=\"95.410156\" xlink:href=\"#DejaVuSans-48\"/>\r\n      </g>\r\n     </g>\r\n    </g>\r\n    <g id=\"xtick_6\">\r\n     <g id=\"line2d_6\">\r\n      <g>\r\n       <use style=\"stroke:#000000;stroke-width:0.8;\" x=\"245.285872\" xlink:href=\"#md790639190\" y=\"224.64\"/>\r\n      </g>\r\n     </g>\r\n     <g id=\"text_6\">\r\n      <!-- 2.5 -->\r\n      <g transform=\"translate(237.33431 239.238437)scale(0.1 -0.1)\">\r\n       <use xlink:href=\"#DejaVuSans-50\"/>\r\n       <use x=\"63.623047\" xlink:href=\"#DejaVuSans-46\"/>\r\n       <use x=\"95.410156\" xlink:href=\"#DejaVuSans-53\"/>\r\n      </g>\r\n     </g>\r\n    </g>\r\n    <g id=\"xtick_7\">\r\n     <g id=\"line2d_7\">\r\n      <g>\r\n       <use style=\"stroke:#000000;stroke-width:0.8;\" x=\"283.36941\" xlink:href=\"#md790639190\" y=\"224.64\"/>\r\n      </g>\r\n     </g>\r\n     <g id=\"text_7\">\r\n      <!-- 5.0 -->\r\n      <g transform=\"translate(275.417848 239.238437)scale(0.1 -0.1)\">\r\n       <use xlink:href=\"#DejaVuSans-53\"/>\r\n       <use x=\"63.623047\" xlink:href=\"#DejaVuSans-46\"/>\r\n       <use x=\"95.410156\" xlink:href=\"#DejaVuSans-48\"/>\r\n      </g>\r\n     </g>\r\n    </g>\r\n    <g id=\"xtick_8\">\r\n     <g id=\"line2d_8\">\r\n      <g>\r\n       <use style=\"stroke:#000000;stroke-width:0.8;\" x=\"321.452948\" xlink:href=\"#md790639190\" y=\"224.64\"/>\r\n      </g>\r\n     </g>\r\n     <g id=\"text_8\">\r\n      <!-- 7.5 -->\r\n      <g transform=\"translate(313.501386 239.238437)scale(0.1 -0.1)\">\r\n       <use xlink:href=\"#DejaVuSans-55\"/>\r\n       <use x=\"63.623047\" xlink:href=\"#DejaVuSans-46\"/>\r\n       <use x=\"95.410156\" xlink:href=\"#DejaVuSans-53\"/>\r\n      </g>\r\n     </g>\r\n    </g>\r\n    <g id=\"xtick_9\">\r\n     <g id=\"line2d_9\">\r\n      <g>\r\n       <use style=\"stroke:#000000;stroke-width:0.8;\" x=\"359.536486\" xlink:href=\"#md790639190\" y=\"224.64\"/>\r\n      </g>\r\n     </g>\r\n     <g id=\"text_9\">\r\n      <!-- 10.0 -->\r\n      <g transform=\"translate(348.403674 239.238437)scale(0.1 -0.1)\">\r\n       <use xlink:href=\"#DejaVuSans-49\"/>\r\n       <use x=\"63.623047\" xlink:href=\"#DejaVuSans-48\"/>\r\n       <use x=\"127.246094\" xlink:href=\"#DejaVuSans-46\"/>\r\n       <use x=\"159.033203\" xlink:href=\"#DejaVuSans-48\"/>\r\n      </g>\r\n     </g>\r\n    </g>\r\n   </g>\r\n   <g id=\"matplotlib.axis_2\">\r\n    <g id=\"ytick_1\">\r\n     <g id=\"line2d_10\">\r\n      <defs>\r\n       <path d=\"M 0 0 \r\nL -3.5 0 \r\n\" id=\"m8f4e2713cb\" style=\"stroke:#000000;stroke-width:0.8;\"/>\r\n      </defs>\r\n      <g>\r\n       <use style=\"stroke:#000000;stroke-width:0.8;\" x=\"39.65\" xlink:href=\"#m8f4e2713cb\" y=\"201.444532\"/>\r\n      </g>\r\n     </g>\r\n     <g id=\"text_10\">\r\n      <!-- 0 -->\r\n      <g transform=\"translate(26.2875 205.24375)scale(0.1 -0.1)\">\r\n       <use xlink:href=\"#DejaVuSans-48\"/>\r\n      </g>\r\n     </g>\r\n    </g>\r\n    <g id=\"ytick_2\">\r\n     <g id=\"line2d_11\">\r\n      <g>\r\n       <use style=\"stroke:#000000;stroke-width:0.8;\" x=\"39.65\" xlink:href=\"#m8f4e2713cb\" y=\"156.165974\"/>\r\n      </g>\r\n     </g>\r\n     <g id=\"text_11\">\r\n      <!-- 2000 -->\r\n      <g transform=\"translate(7.2 159.965193)scale(0.1 -0.1)\">\r\n       <use xlink:href=\"#DejaVuSans-50\"/>\r\n       <use x=\"63.623047\" xlink:href=\"#DejaVuSans-48\"/>\r\n       <use x=\"127.246094\" xlink:href=\"#DejaVuSans-48\"/>\r\n       <use x=\"190.869141\" xlink:href=\"#DejaVuSans-48\"/>\r\n      </g>\r\n     </g>\r\n    </g>\r\n    <g id=\"ytick_3\">\r\n     <g id=\"line2d_12\">\r\n      <g>\r\n       <use style=\"stroke:#000000;stroke-width:0.8;\" x=\"39.65\" xlink:href=\"#m8f4e2713cb\" y=\"110.887416\"/>\r\n      </g>\r\n     </g>\r\n     <g id=\"text_12\">\r\n      <!-- 4000 -->\r\n      <g transform=\"translate(7.2 114.686635)scale(0.1 -0.1)\">\r\n       <defs>\r\n        <path d=\"M 37.796875 64.3125 \r\nL 12.890625 25.390625 \r\nL 37.796875 25.390625 \r\nz\r\nM 35.203125 72.90625 \r\nL 47.609375 72.90625 \r\nL 47.609375 25.390625 \r\nL 58.015625 25.390625 \r\nL 58.015625 17.1875 \r\nL 47.609375 17.1875 \r\nL 47.609375 0 \r\nL 37.796875 0 \r\nL 37.796875 17.1875 \r\nL 4.890625 17.1875 \r\nL 4.890625 26.703125 \r\nz\r\n\" id=\"DejaVuSans-52\"/>\r\n       </defs>\r\n       <use xlink:href=\"#DejaVuSans-52\"/>\r\n       <use x=\"63.623047\" xlink:href=\"#DejaVuSans-48\"/>\r\n       <use x=\"127.246094\" xlink:href=\"#DejaVuSans-48\"/>\r\n       <use x=\"190.869141\" xlink:href=\"#DejaVuSans-48\"/>\r\n      </g>\r\n     </g>\r\n    </g>\r\n    <g id=\"ytick_4\">\r\n     <g id=\"line2d_13\">\r\n      <g>\r\n       <use style=\"stroke:#000000;stroke-width:0.8;\" x=\"39.65\" xlink:href=\"#m8f4e2713cb\" y=\"65.608858\"/>\r\n      </g>\r\n     </g>\r\n     <g id=\"text_13\">\r\n      <!-- 6000 -->\r\n      <g transform=\"translate(7.2 69.408077)scale(0.1 -0.1)\">\r\n       <defs>\r\n        <path d=\"M 33.015625 40.375 \r\nQ 26.375 40.375 22.484375 35.828125 \r\nQ 18.609375 31.296875 18.609375 23.390625 \r\nQ 18.609375 15.53125 22.484375 10.953125 \r\nQ 26.375 6.390625 33.015625 6.390625 \r\nQ 39.65625 6.390625 43.53125 10.953125 \r\nQ 47.40625 15.53125 47.40625 23.390625 \r\nQ 47.40625 31.296875 43.53125 35.828125 \r\nQ 39.65625 40.375 33.015625 40.375 \r\nz\r\nM 52.59375 71.296875 \r\nL 52.59375 62.3125 \r\nQ 48.875 64.0625 45.09375 64.984375 \r\nQ 41.3125 65.921875 37.59375 65.921875 \r\nQ 27.828125 65.921875 22.671875 59.328125 \r\nQ 17.53125 52.734375 16.796875 39.40625 \r\nQ 19.671875 43.65625 24.015625 45.921875 \r\nQ 28.375 48.1875 33.59375 48.1875 \r\nQ 44.578125 48.1875 50.953125 41.515625 \r\nQ 57.328125 34.859375 57.328125 23.390625 \r\nQ 57.328125 12.15625 50.6875 5.359375 \r\nQ 44.046875 -1.421875 33.015625 -1.421875 \r\nQ 20.359375 -1.421875 13.671875 8.265625 \r\nQ 6.984375 17.96875 6.984375 36.375 \r\nQ 6.984375 53.65625 15.1875 63.9375 \r\nQ 23.390625 74.21875 37.203125 74.21875 \r\nQ 40.921875 74.21875 44.703125 73.484375 \r\nQ 48.484375 72.75 52.59375 71.296875 \r\nz\r\n\" id=\"DejaVuSans-54\"/>\r\n       </defs>\r\n       <use xlink:href=\"#DejaVuSans-54\"/>\r\n       <use x=\"63.623047\" xlink:href=\"#DejaVuSans-48\"/>\r\n       <use x=\"127.246094\" xlink:href=\"#DejaVuSans-48\"/>\r\n       <use x=\"190.869141\" xlink:href=\"#DejaVuSans-48\"/>\r\n      </g>\r\n     </g>\r\n    </g>\r\n    <g id=\"ytick_5\">\r\n     <g id=\"line2d_14\">\r\n      <g>\r\n       <use style=\"stroke:#000000;stroke-width:0.8;\" x=\"39.65\" xlink:href=\"#m8f4e2713cb\" y=\"20.330301\"/>\r\n      </g>\r\n     </g>\r\n     <g id=\"text_14\">\r\n      <!-- 8000 -->\r\n      <g transform=\"translate(7.2 24.129519)scale(0.1 -0.1)\">\r\n       <defs>\r\n        <path d=\"M 31.78125 34.625 \r\nQ 24.75 34.625 20.71875 30.859375 \r\nQ 16.703125 27.09375 16.703125 20.515625 \r\nQ 16.703125 13.921875 20.71875 10.15625 \r\nQ 24.75 6.390625 31.78125 6.390625 \r\nQ 38.8125 6.390625 42.859375 10.171875 \r\nQ 46.921875 13.96875 46.921875 20.515625 \r\nQ 46.921875 27.09375 42.890625 30.859375 \r\nQ 38.875 34.625 31.78125 34.625 \r\nz\r\nM 21.921875 38.8125 \r\nQ 15.578125 40.375 12.03125 44.71875 \r\nQ 8.5 49.078125 8.5 55.328125 \r\nQ 8.5 64.0625 14.71875 69.140625 \r\nQ 20.953125 74.21875 31.78125 74.21875 \r\nQ 42.671875 74.21875 48.875 69.140625 \r\nQ 55.078125 64.0625 55.078125 55.328125 \r\nQ 55.078125 49.078125 51.53125 44.71875 \r\nQ 48 40.375 41.703125 38.8125 \r\nQ 48.828125 37.15625 52.796875 32.3125 \r\nQ 56.78125 27.484375 56.78125 20.515625 \r\nQ 56.78125 9.90625 50.3125 4.234375 \r\nQ 43.84375 -1.421875 31.78125 -1.421875 \r\nQ 19.734375 -1.421875 13.25 4.234375 \r\nQ 6.78125 9.90625 6.78125 20.515625 \r\nQ 6.78125 27.484375 10.78125 32.3125 \r\nQ 14.796875 37.15625 21.921875 38.8125 \r\nz\r\nM 18.3125 54.390625 \r\nQ 18.3125 48.734375 21.84375 45.5625 \r\nQ 25.390625 42.390625 31.78125 42.390625 \r\nQ 38.140625 42.390625 41.71875 45.5625 \r\nQ 45.3125 48.734375 45.3125 54.390625 \r\nQ 45.3125 60.0625 41.71875 63.234375 \r\nQ 38.140625 66.40625 31.78125 66.40625 \r\nQ 25.390625 66.40625 21.84375 63.234375 \r\nQ 18.3125 60.0625 18.3125 54.390625 \r\nz\r\n\" id=\"DejaVuSans-56\"/>\r\n       </defs>\r\n       <use xlink:href=\"#DejaVuSans-56\"/>\r\n       <use x=\"63.623047\" xlink:href=\"#DejaVuSans-48\"/>\r\n       <use x=\"127.246094\" xlink:href=\"#DejaVuSans-48\"/>\r\n       <use x=\"190.869141\" xlink:href=\"#DejaVuSans-48\"/>\r\n      </g>\r\n     </g>\r\n    </g>\r\n   </g>\r\n   <g id=\"line2d_15\">\r\n    <path clip-path=\"url(#pd44e76a1de)\" d=\"M 54.868182 106.812346 \r\nL 57.914865 118.309079 \r\nL 60.961548 128.937405 \r\nL 64.008231 138.737315 \r\nL 67.054914 147.747929 \r\nL 70.101597 156.007499 \r\nL 72.843612 162.829883 \r\nL 75.585627 169.10086 \r\nL 78.327641 174.846511 \r\nL 81.069656 180.092343 \r\nL 83.811671 184.863295 \r\nL 86.553686 189.183735 \r\nL 89.2957 193.07746 \r\nL 92.037715 196.567697 \r\nL 94.77973 199.677103 \r\nL 97.521744 202.427765 \r\nL 100.263759 204.841198 \r\nL 103.005774 206.938347 \r\nL 105.747789 208.73959 \r\nL 108.489803 210.264729 \r\nL 111.231818 211.533 \r\nL 113.973833 212.563066 \r\nL 116.715848 213.373021 \r\nL 119.762531 214.036111 \r\nL 122.809214 214.472291 \r\nL 126.160565 214.716648 \r\nL 129.511916 214.741981 \r\nL 133.167936 214.551809 \r\nL 137.128624 214.127201 \r\nL 141.698649 213.406083 \r\nL 146.87801 212.359075 \r\nL 153.580713 210.762442 \r\nL 178.258845 204.651745 \r\nL 184.352211 203.486312 \r\nL 190.140909 202.602384 \r\nL 195.624939 201.988172 \r\nL 201.108968 201.602608 \r\nL 206.592998 201.447722 \r\nL 212.077027 201.516415 \r\nL 217.865725 201.813414 \r\nL 224.263759 202.373734 \r\nL 231.880467 203.280502 \r\nL 254.121253 206.10585 \r\nL 259.300614 206.443603 \r\nL 263.870639 206.514829 \r\nL 267.831327 206.356516 \r\nL 271.487346 205.991341 \r\nL 274.838698 205.441587 \r\nL 278.190049 204.65741 \r\nL 281.236732 203.716537 \r\nL 284.283415 202.534931 \r\nL 287.02543 201.246061 \r\nL 289.767445 199.725082 \r\nL 292.509459 197.953519 \r\nL 295.251474 195.912327 \r\nL 297.993489 193.581893 \r\nL 300.735504 190.942031 \r\nL 303.477518 187.971986 \r\nL 306.219533 184.650432 \r\nL 308.961548 180.955472 \r\nL 311.703563 176.864639 \r\nL 314.445577 172.354898 \r\nL 317.187592 167.402641 \r\nL 319.929607 161.983689 \r\nL 322.671622 156.073295 \r\nL 325.413636 149.64614 \r\nL 328.155651 142.676335 \r\nL 330.897666 135.137422 \r\nL 333.944349 126.060483 \r\nL 336.991032 116.209653 \r\nL 340.037715 105.546159 \r\nL 343.084398 94.030359 \r\nL 346.131081 81.621741 \r\nL 349.177764 68.278924 \r\nL 352.224447 53.959658 \r\nL 355.27113 38.620824 \r\nL 358.317813 22.218431 \r\nL 359.231818 17.083636 \r\nL 359.231818 17.083636 \r\n\" style=\"fill:none;stroke:#1f77b4;stroke-linecap:square;stroke-width:1.5;\"/>\r\n   </g>\r\n   <g id=\"patch_3\">\r\n    <path d=\"M 39.65 224.64 \r\nL 39.65 7.2 \r\n\" style=\"fill:none;stroke:#000000;stroke-linecap:square;stroke-linejoin:miter;stroke-width:0.8;\"/>\r\n   </g>\r\n   <g id=\"patch_4\">\r\n    <path d=\"M 374.45 224.64 \r\nL 374.45 7.2 \r\n\" style=\"fill:none;stroke:#000000;stroke-linecap:square;stroke-linejoin:miter;stroke-width:0.8;\"/>\r\n   </g>\r\n   <g id=\"patch_5\">\r\n    <path d=\"M 39.65 224.64 \r\nL 374.45 224.64 \r\n\" style=\"fill:none;stroke:#000000;stroke-linecap:square;stroke-linejoin:miter;stroke-width:0.8;\"/>\r\n   </g>\r\n   <g id=\"patch_6\">\r\n    <path d=\"M 39.65 7.2 \r\nL 374.45 7.2 \r\n\" style=\"fill:none;stroke:#000000;stroke-linecap:square;stroke-linejoin:miter;stroke-width:0.8;\"/>\r\n   </g>\r\n  </g>\r\n </g>\r\n <defs>\r\n  <clipPath id=\"pd44e76a1de\">\r\n   <rect height=\"217.44\" width=\"334.8\" x=\"39.65\" y=\"7.2\"/>\r\n  </clipPath>\r\n </defs>\r\n</svg>\r\n",
      "image/png": "[encoded data removed]"
     },
     "metadata": {
      "needs_background": "light"
     }
    }
   ],
   "source": [
    "import numpy as np\n",
    "import matplotlib.pyplot as plt\n",
    "\n",
    "\n",
    "def func(x):\n",
    "    return x*x*x*x + 2*x*x*x + -38*x*x + 2*x\n",
    "\n",
    "\n",
    "X = np.arange(-10, 10, 0.02)\n",
    "Y = func(X)\n",
    "\n",
    "plt.plot(X, Y)\n",
    "plt.show()"
   ]
  },
  {
   "source": [
    "微分済みの関数は"
   ],
   "cell_type": "markdown",
   "metadata": {}
  },
  {
   "cell_type": "code",
   "execution_count": 17,
   "metadata": {},
   "outputs": [
    {
     "output_type": "execute_result",
     "data": {
      "text/plain": [
       "1457.0"
      ]
     },
     "metadata": {},
     "execution_count": 17
    }
   ],
   "source": [
    "def delta_func(x):\n",
    "    return 4*x*x*x + 6*x*x -76*x + 2\n",
    "\n",
    "\n",
    "# ここに 7,5 を突っ込むと\n",
    "delta_func(7.5)"
   ]
  },
  {
   "source": [
    "傾斜凄いので、学習バイアスを仮に 0.001 位で想定すると"
   ],
   "cell_type": "markdown",
   "metadata": {}
  },
  {
   "cell_type": "code",
   "execution_count": 26,
   "metadata": {},
   "outputs": [
    {
     "output_type": "stream",
     "name": "stdout",
     "text": [
      "6.043\n5.398451459972\n5.002559811688421\n4.729832392627848\n4.529821496454675\n4.377177480355534\n4.257423546210319\n4.161559438372887\n4.08363734432107\n4.019540738521101\n3.9663154081729166\n3.921778562920445\n3.8842783889882955\n3.8525397914062047\n3.8255618877089477\n3.802547822422183\n3.7828554545321524\n3.7659619202774888\n3.7514376555641213\n3.738927013088748\n3.7281335693034587\n3.7188088267724755\n3.7107434149131473\n3.7037601564458242\n3.697708546081601\n3.692460311597264\n3.6879058140851497\n3.6839511057739855\n3.6805155082174594\n3.67752960604679\n3.6749335754017194\n3.6726757840045647\n3.6707116133011746\n3.669002463340202\n3.6675149089369588\n3.6662199817732937\n3.665092557858305\n3.664110833537009\n3.663255876222559\n3.6625112384189564\n3.661862625528296\n3.66129760949993\n3.660805381655323\n3.660376539070622\n3.66000289976476\n3.659677342659728\n3.659393668879335\n3.6591464814553354\n3.658931080932697\n3.658743374723007\n3.6585797983577586\n3.658437247050682\n3.658313016197765\n3.658204749631204\n3.6581103946042393\n3.6581103946042393\n"
     ]
    }
   ],
   "source": [
    "alpha = 0.001\n",
    "\n",
    "current = 7.5\n",
    "old = 0\n",
    "\n",
    "while abs(current - old) >= 0.0001:\n",
    "    val = delta_func(current)\n",
    "    old = current\n",
    "    current = current - val * alpha\n",
    "    print(current)"
   ]
  },
  {
   "source": [
    "とまぁこんな感じで、明らかに `x=-5....` の方が正解にもかかわらず途中の `3.7` 近辺に捕まってしまう。  \n",
    "この局所解を回避するのが最適化アルゴリズムと言ってるご様子。\n",
    "\n",
    "## 確率的勾配降下法\n",
    "\n",
    "訓練用データの中からパラメータの更新毎に、ランダムなサンプルを選び出すことで、局所解に捕まりにくくする。  \n",
    "要するに開始位置をランダムに指定するだけだ。\n",
    "\n",
    "## Momentum\n",
    "\n",
    "確率的勾配降下法に、慣性項を設けたというもの。  \n",
    "前回の更新量に追加でいくらかの値を設定する。"
   ],
   "cell_type": "markdown",
   "metadata": {}
  },
  {
   "cell_type": "code",
   "execution_count": 35,
   "metadata": {},
   "outputs": [
    {
     "output_type": "stream",
     "name": "stdout",
     "text": [
      "6.043\n1.4645514599719993\n-0.19185848304183395\n0.01781967384422567\n-0.028117364030085537\n-0.034007546495780354\n-0.049781152307481306\n-0.06797555468750062\n-0.0908220708732037\n-0.11919109008260265\n-0.15449030499302088\n-0.19842989237099845\n-0.2531637961781708\n-0.3213951916117546\n-0.4065204632656256\n-0.5128039739962857\n-0.6455851164892475\n-0.811505062953562\n-1.0187130348474362\n-1.2769506763333995\n-1.5972879184477984\n-1.9910472381536204\n-2.4670630301924907\n-3.0259552354009642\n-3.6501120398108458\n-4.2903596099875925\n-4.857995698852847\n-5.2432719228484554\n-5.378492294207526\n-5.310361906090113\n-5.183472682866072\n-5.11814546137427\n-5.130192900046406\n-5.171949378752106\n-5.2003881616104\n-5.2032190237025935\n-5.191354001667161\n-5.180269368221342\n-5.1771810299574925\n-5.180181249424525\n-5.184162051676043\n-5.185922174066375\n-5.185379292975573\n-5.184060245776873\n-5.183254760318419\n-5.183254259207195\n"
     ]
    }
   ],
   "source": [
    "alpha = 0.001\n",
    "beta = 2.7\n",
    "\n",
    "current = 7.5\n",
    "old = 0\n",
    "last_w = 0\n",
    "\n",
    "while abs(current - old) >= 0.0001:\n",
    "    val = delta_func(current)\n",
    "    old = current\n",
    "    new_w = - val * alpha\n",
    "    current = current + new_w + last_w * beta\n",
    "    last_w = new_w\n",
    "    print(current)"
   ]
  },
  {
   "source": [
    "見ての通り、下がるときに慣性を利用して追加で下がるので、パラメータさえ合ってれば局所解を乗り越えていく。\n",
    "\n",
    "## AdaGrad\n",
    "\n",
    "2011 年に現れたアルゴリズムで、学習が進むたびに学習係数を減らそうという試み。\n",
    "\n",
    "$$\n",
    "h \\leftarrow  h + (\\frac{\\partial E}{\\partial w})^2 \\\\\n",
    "w \\leftarrow w - \\eta \\frac{1}{\\sqrt{h}}\\frac{\\partial E}{\\partial w}\n",
    "$$"
   ],
   "cell_type": "markdown",
   "metadata": {}
  },
  {
   "cell_type": "code",
   "execution_count": 46,
   "metadata": {},
   "outputs": [
    {
     "output_type": "stream",
     "name": "stdout",
     "text": [
      "6.5\n5.991688924667466\n5.646410961134836\n5.386994732474357\n5.181464168891868\n5.013125259836374\n4.87204852326966\n4.7518067607144445\n4.647984515962909\n4.557410990822424\n4.47772972020331\n4.407140798818975\n4.344238282940154\n4.287903250227089\n4.23723099543947\n4.1914800066613\n4.150035310462555\n4.1123815712304745\n4.078082977842838\n4.04676795652729\n4.018117381523742\n3.991855364159257\n3.9677419716725204\n3.945567410183514\n3.925147332371601\n3.906319018896746\n3.8889382456169352\n3.8728766941891757\n3.8580197969761705\n3.8442649318798843\n3.8315199012281496\n3.8197016428478148\n3.808735132162399\n3.798552442405527\n3.789091936457758\n3.780297568841414\n3.772118280375192\n3.764507471142559\n3.757422539948691\n3.7508244804687685\n3.744677525931404\n3.738948835515955\n3.733608216734055\n3.728627878962639\n3.723982214036123\n3.719647600419263\n3.7156022279933074\n3.711825940915271\n3.7083000963686423\n3.705007437325738\n3.7019319776970567\n3.6990588984593322\n3.6963744535380294\n3.6938658843770793\n3.6915213422630684\n3.689329817586468\n3.6872810753218084\n3.6853655960944005\n3.68357452227539\n3.6818996086112543\n3.680333176949806\n3.6788680746735536\n3.677497636493863\n3.6762156492967013\n3.6750163197634835\n3.6738942445193583\n3.672844382586653\n3.6718620299436235\n3.670942796008503\n3.6700825818864313\n3.6692775602324965\n3.668524156598014\n3.6678190321395934\n3.6671590675816272\n3.6665413483327454\n3.665963150665686\n3.665421928878012\n3.664915303358293\n3.66444104948883\n3.6639970873218672\n3.663581471971482\n3.663192384668147\n3.662828124427272\n3.6624871002869765\n3.662167824073909\n3.661868903659179\n3.6615890366694464\n3.6613270046208934\n3.6610816674463065\n3.6608519583877244\n3.660636879229203\n3.6604354958461323\n3.660246934049288\n3.660070375703399\n3.6599050551014836\n3.6597502555775594\n3.659605306341589\n3.659469579521657\n3.6593424873994564\n3.6592234798261245\n3.6591120418063894\n3.6590076912398155\n3.6589099768087188\n3.6589099768087188\n"
     ]
    }
   ],
   "source": [
    "import math\n",
    "\n",
    "h = 0\n",
    "current = 7.5\n",
    "old = 0\n",
    "\n",
    "while abs(current - old) >= 0.0001:\n",
    "    val = delta_func(current)\n",
    "    h = h + val * val\n",
    "    new_w = - val / math.sqrt(h)\n",
    "    old = current\n",
    "    current = current + new_w\n",
    "    print(current)\n",
    "\n",
    "print(current)"
   ]
  },
  {
   "source": [
    "この h が毎回デカくなるから、学習もその都度抑えられるという仕組みだが、弱点として途中で `h` がデカくなりすぎて更新が止まることがある点。  \n",
    "今回は見事にそれ。\n",
    "\n",
    "## RMSProp\n",
    "\n",
    "論文は存在してない？\n",
    "\n",
    "$$\n",
    "h \\leftarrow \\rho h + (1 - \\rho) (\\frac{\\partial E}{\\partial w})^2 \\\\\n",
    "w \\leftarrow w - \\eta \\frac{1}{\\sqrt{h}}\\frac{\\partial E}{\\partial w}\n",
    "$$\n",
    "\n",
    "$\\rho$ を仕込むことで、以前の h をある程度忘れるという式ですね。"
   ],
   "cell_type": "markdown",
   "metadata": {}
  },
  {
   "cell_type": "code",
   "execution_count": null,
   "metadata": {},
   "outputs": [],
   "source": []
  }
 ]
}