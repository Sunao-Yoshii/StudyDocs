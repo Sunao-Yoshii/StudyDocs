{
 "metadata": {
  "language_info": {
   "codemirror_mode": {
    "name": "ipython",
    "version": 3
   },
   "file_extension": ".py",
   "mimetype": "text/x-python",
   "name": "python",
   "nbconvert_exporter": "python",
   "pygments_lexer": "ipython3",
   "version": "3.8.5-final"
  },
  "orig_nbformat": 2,
  "kernelspec": {
   "name": "python3",
   "display_name": "Python 3",
   "language": "python"
  }
 },
 "nbformat": 4,
 "nbformat_minor": 2,
 "cells": [
  {
   "source": [
    "### スカラー\n",
    "\n",
    "といっても、基本的には単独の値を意味する"
   ],
   "cell_type": "markdown",
   "metadata": {}
  },
  {
   "cell_type": "code",
   "execution_count": 1,
   "metadata": {},
   "outputs": [],
   "source": [
    "a = 1\n",
    "b = 1.5\n",
    "c = 1.2e5"
   ]
  },
  {
   "source": [
    "### ベクトル(一次テンソル)\n",
    "\n",
    "スカラを直線状に並べたもの≒一次元配列\n",
    "\n",
    "$$\n",
    "    \\boldsymbol{a} =\n",
    "        \\left(\n",
    "            \\begin{array}{c}\n",
    "                1 \\\\\n",
    "                2 \\\\\n",
    "            \\end{array}\n",
    "        \\right)\n",
    "$$"
   ],
   "cell_type": "markdown",
   "metadata": {}
  },
  {
   "cell_type": "code",
   "execution_count": 1,
   "metadata": {},
   "outputs": [],
   "source": [
    "import numpy as np\n",
    "\n",
    "a = np.array([1, 2, 3])\n",
    "b = np.array([-1.1, 1.8e2, 3.14])"
   ]
  },
  {
   "source": [
    "### 行列（二次テンソル）\n",
    "\n",
    "つってもこれも有名すぎるでしょう。\n",
    "\n",
    "$$\n",
    "    \\boldsymbol{c} =\n",
    "        \\left(\n",
    "            \\begin{array}{ccc}\n",
    "                1 & 2 & 3 \\\\\n",
    "                4 & 5 & 6 \\\\\n",
    "            \\end{array}\n",
    "        \\right)\n",
    "$$"
   ],
   "cell_type": "markdown",
   "metadata": {}
  },
  {
   "cell_type": "code",
   "execution_count": 2,
   "metadata": {},
   "outputs": [],
   "source": [
    "c = np.array([\n",
    "    [1, 2, 3],\n",
    "    [4, 5, 6]\n",
    "])"
   ]
  },
  {
   "source": [
    "### 多次元テンソル\n",
    "\n",
    "複数次元のテンソルのことです"
   ],
   "cell_type": "markdown",
   "metadata": {}
  },
  {
   "cell_type": "code",
   "execution_count": 3,
   "metadata": {},
   "outputs": [],
   "source": [
    "d = np.array([\n",
    "    [\n",
    "        [1, 2, 3],\n",
    "        [4, 5, 6]\n",
    "    ],\n",
    "    [\n",
    "        [7, 8, 9],\n",
    "        [10, 11, 12]\n",
    "    ]\n",
    "])"
   ]
  },
  {
   "source": [
    "テンソルの次元変更を `reshape` で"
   ],
   "cell_type": "markdown",
   "metadata": {}
  },
  {
   "source": [
    "simple = np.array([i for i in range(24)])\n",
    "reshaped = simple.reshape(4, 6)\n",
    "print(reshaped)"
   ],
   "cell_type": "code",
   "metadata": {},
   "execution_count": 7,
   "outputs": [
    {
     "output_type": "stream",
     "name": "stdout",
     "text": [
      "[[ 0  1  2  3  4  5]\n [ 6  7  8  9 10 11]\n [12 13 14 15 16 17]\n [18 19 20 21 22 23]]\n"
     ]
    }
   ]
  },
  {
   "cell_type": "code",
   "execution_count": 8,
   "metadata": {},
   "outputs": [
    {
     "output_type": "stream",
     "name": "stdout",
     "text": [
      "[[[[ 0  1  2]\n   [ 3  4  5]]\n\n  [[ 6  7  8]\n   [ 9 10 11]]]\n\n\n [[[12 13 14]\n   [15 16 17]]\n\n  [[18 19 20]\n   [21 22 23]]]]\n"
     ]
    }
   ],
   "source": [
    "print(simple.reshape(2, 2, 2, 3))"
   ]
  },
  {
   "cell_type": "code",
   "execution_count": 9,
   "metadata": {},
   "outputs": [
    {
     "output_type": "stream",
     "name": "stdout",
     "text": [
      "[[[ 0  1  2  3]\n  [ 4  5  6  7]\n  [ 8  9 10 11]]\n\n [[12 13 14 15]\n  [16 17 18 19]\n  [20 21 22 23]]]\n"
     ]
    }
   ],
   "source": [
    "print(simple.reshape(2, 3, 4))"
   ]
  },
  {
   "source": [
    "`transpose` でテンソルの軸を変更できる"
   ],
   "cell_type": "markdown",
   "metadata": {}
  },
  {
   "cell_type": "code",
   "execution_count": 17,
   "metadata": {},
   "outputs": [
    {
     "output_type": "stream",
     "name": "stdout",
     "text": [
      "[[1 2 3 4]\n [2 0 0 0]\n [3 0 0 0]]\n"
     ]
    }
   ],
   "source": [
    "simple = np.array([\n",
    "    [1, 2, 3, 4],\n",
    "    [2, 0, 0, 0],\n",
    "    [3, 0, 0, 0]\n",
    "])\n",
    "print(simple.transpose(0, 1))"
   ]
  },
  {
   "cell_type": "code",
   "execution_count": 18,
   "metadata": {},
   "outputs": [
    {
     "output_type": "stream",
     "name": "stdout",
     "text": [
      "[[1 2 3]\n [2 0 0]\n [3 0 0]\n [4 0 0]]\n"
     ]
    }
   ],
   "source": [
    "\n",
    "print(simple.transpose(1, 0))"
   ]
  },
  {
   "source": [
    "もうちょい複雑なテンソルの軸変換"
   ],
   "cell_type": "markdown",
   "metadata": {}
  },
  {
   "cell_type": "code",
   "execution_count": 31,
   "metadata": {},
   "outputs": [
    {
     "output_type": "stream",
     "name": "stdout",
     "text": [
      "[[[1 2 3]\n  [2 0 0]\n  [3 0 0]\n  [4 0 0]]\n\n [[2 0 0]\n  [0 0 0]\n  [0 0 0]\n  [0 0 0]]]\n"
     ]
    }
   ],
   "source": [
    "simple = np.array([\n",
    "    [\n",
    "        [1, 2, 3, 4],\n",
    "        [2, 0, 0, 0],\n",
    "        [3, 0, 0, 0]\n",
    "    ],\n",
    "    [\n",
    "        [2, 0, 0, 0],\n",
    "        [0, 0, 0, 0],\n",
    "        [0, 0, 0, 0]\n",
    "    ]\n",
    "])\n",
    "\n",
    "print(simple.transpose(0, 2, 1))"
   ]
  },
  {
   "cell_type": "code",
   "execution_count": 19,
   "metadata": {},
   "outputs": [
    {
     "output_type": "stream",
     "name": "stdout",
     "text": [
      "[[[1 2]\n  [2 0]\n  [3 0]]\n\n [[2 0]\n  [0 0]\n  [0 0]]\n\n [[3 0]\n  [0 0]\n  [0 0]]\n\n [[4 0]\n  [0 0]\n  [0 0]]]\n"
     ]
    }
   ],
   "source": [
    "\n",
    "print(simple.transpose(2, 1, 0))"
   ]
  },
  {
   "cell_type": "code",
   "execution_count": 23,
   "metadata": {},
   "outputs": [
    {
     "output_type": "stream",
     "name": "stdout",
     "text": [
      "[[[1 2 3 4]\n  [2 0 0 0]]\n\n [[2 0 0 0]\n  [0 0 0 0]]\n\n [[3 0 0 0]\n  [0 0 0 0]]]\n"
     ]
    }
   ],
   "source": [
    "print(simple.transpose(1, 0, 2))"
   ]
  },
  {
   "cell_type": "code",
   "execution_count": 20,
   "metadata": {},
   "outputs": [
    {
     "output_type": "stream",
     "name": "stdout",
     "text": [
      "[[[1 2]\n  [2 0]\n  [3 0]\n  [4 0]]\n\n [[2 0]\n  [0 0]\n  [0 0]\n  [0 0]]\n\n [[3 0]\n  [0 0]\n  [0 0]\n  [0 0]]]\n"
     ]
    }
   ],
   "source": [
    "print(simple.transpose(1, 2, 0))"
   ]
  },
  {
   "cell_type": "code",
   "execution_count": 22,
   "metadata": {},
   "outputs": [
    {
     "output_type": "stream",
     "name": "stdout",
     "text": [
      "[[[1 2 3]\n  [2 0 0]]\n\n [[2 0 0]\n  [0 0 0]]\n\n [[3 0 0]\n  [0 0 0]]\n\n [[4 0 0]\n  [0 0 0]]]\n"
     ]
    }
   ],
   "source": [
    "print(simple.transpose(2, 0, 1))"
   ]
  },
  {
   "source": [
    "### 行列のスカラ倍\n",
    "\n",
    "つってもこれは基本過ぎるか…"
   ],
   "cell_type": "markdown",
   "metadata": {}
  },
  {
   "cell_type": "code",
   "execution_count": 25,
   "metadata": {},
   "outputs": [
    {
     "output_type": "stream",
     "name": "stdout",
     "text": [
      "[[ 2  4  6  8]\n [10 12 14 16]\n [18 20 22 24]]\n"
     ]
    }
   ],
   "source": [
    "a = np.array([\n",
    "    [1, 2, 3, 4],\n",
    "    [5, 6, 7, 8],\n",
    "    [9, 10, 11, 12]\n",
    "])\n",
    "print(a * 2)"
   ]
  },
  {
   "source": [
    "### アダマール積\n",
    "\n",
    "行列の各要素の積"
   ],
   "cell_type": "markdown",
   "metadata": {}
  },
  {
   "cell_type": "code",
   "execution_count": 26,
   "metadata": {},
   "outputs": [
    {
     "output_type": "stream",
     "name": "stdout",
     "text": [
      "[[ 0  2  6]\n [12 20 30]]\n"
     ]
    }
   ],
   "source": [
    "a = np.array([\n",
    "    [1, 2, 3],\n",
    "    [4, 5, 6]\n",
    "])\n",
    "b = np.array([\n",
    "    [0, 1, 2],\n",
    "    [3, 4, 5]\n",
    "])\n",
    "print(a * b)"
   ]
  },
  {
   "source": [
    "### 行列積\n",
    "\n",
    "ドット積とかいうやつ。  \n",
    "高校位の数学で習う行列の掛け算はこんな感じ"
   ],
   "cell_type": "markdown",
   "metadata": {}
  },
  {
   "cell_type": "code",
   "execution_count": 29,
   "metadata": {},
   "outputs": [
    {
     "output_type": "stream",
     "name": "stdout",
     "text": [
      "[[16 22]\n [34 49]]\n"
     ]
    }
   ],
   "source": [
    "a = np.array([\n",
    "    [1, 2, 3],\n",
    "    [4, 5, 6]\n",
    "])\n",
    "b = np.array([\n",
    "    [0, 1],\n",
    "    [2, 3],\n",
    "    [4, 5]\n",
    "])\n",
    "print(a.dot(b))"
   ]
  },
  {
   "source": [
    "### 転置行列\n",
    "\n",
    "つってもこれは馴染みがありすぎるか…"
   ],
   "cell_type": "markdown",
   "metadata": {}
  },
  {
   "cell_type": "code",
   "execution_count": 30,
   "metadata": {},
   "outputs": [
    {
     "output_type": "stream",
     "name": "stdout",
     "text": [
      "[[1 6]\n [2 7]\n [3 8]]\n"
     ]
    }
   ],
   "source": [
    "a = np.array([\n",
    "    [1, 2, 3],\n",
    "    [6, 7, 8]\n",
    "])\n",
    "print(a.T)"
   ]
  },
  {
   "cell_type": "code",
   "execution_count": null,
   "metadata": {},
   "outputs": [],
   "source": []
  }
 ]
}