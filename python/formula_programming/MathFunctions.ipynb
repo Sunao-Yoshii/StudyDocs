{
 "cells": [
  {
   "cell_type": "markdown",
   "metadata": {},
   "source": [
    "### シグモイド関数\n",
    "\n",
    "基本形はこんな数式らしい。\n",
    "\n",
    "$　 f_\\theta(x) = \\frac{1}{1 + e^{-\\theta^Tx}}　$\n",
    "\n",
    "グラフにしてみるかね"
   ]
  },
  {
   "cell_type": "code",
   "execution_count": 4,
   "metadata": {},
   "outputs": [
    {
     "data": {
      "image/png": "[encoded data removed]",
      "text/plain": [
       "<Figure size 720x360 with 1 Axes>"
      ]
     },
     "metadata": {
      "needs_background": "light"
     },
     "output_type": "display_data"
    }
   ],
   "source": [
    "import numpy as np\n",
    "import matplotlib.pyplot as plt\n",
    "import math\n",
    "%matplotlib inline\n",
    "\n",
    "def sigmoid(x):\n",
    "    \"\"\"シグモイド関数\"\"\"\n",
    "    e = math.e\n",
    "    return 1/(1 + e**-x)\n",
    "\n",
    "x = np.arange(-20, 20, 0.5)\n",
    "y = sigmoid(x)\n",
    "\n",
    "fig = plt.figure(figsize=(10.0, 5.0))\n",
    "\n",
    "plt.plot(x, y, color='blue')\n",
    "\n",
    "plt.grid()\n",
    "plt.show()"
   ]
  },
  {
   "cell_type": "markdown",
   "metadata": {},
   "source": [
    "まぁ要するに `0 - 1` の間、0 でちょうど `0.5` となってるので、パーセンテージを扱う処理に向いてるって話らしい。  \n",
    "これで単純な二値判定するなら、`0.5` が当然のようにボーダーになるわけで…\n",
    "\n",
    "### 長方形の縦長横長判定を考える\n",
    "\n",
    "0 がちょうど 50% なので、それがプラスかマイナスかで 1/ 0 と判定すればいいので\n",
    "\n",
    "$$\n",
    "  y =\n",
    "  \\begin{cases}\n",
    "     1 \\quad (\\theta^T \\geq 0 0) \\\\\n",
    "     0 \\quad (\\theta^T \\leq 0) \\\\\n",
    "  \\end{cases}\n",
    "$$\n",
    "\n",
    "という形になる。\n",
    "\n",
    "これで長方形判定しようとしてみる。  \n",
    "仮に横長である確率を求めると考えて、横軸を $x_1$ 縦軸を $x_2$ として適当なパラメータを与えてみる（あくまでも適当）\n",
    "\n",
    "$$\n",
    "  \\theta =\\left[\n",
    "    \\begin{array}{rrr}\n",
    "        \\theta_0 \\\\\n",
    "        \\theta_1 \\\\\n",
    "        \\theta_2\n",
    "    \\end{array}\n",
    "  \\right] = \\left[\n",
    "    \\begin{array}{rrr}\n",
    "        -50 \\\\\n",
    "        4 \\\\\n",
    "        2\n",
    "    \\end{array}\n",
    "  \\right], \\quad x = \\left[\n",
    "    \\begin{array}{rrr}\n",
    "        1 \\\\\n",
    "        x_1 \\\\\n",
    "        x_2\n",
    "    \\end{array}\n",
    "  \\right]\n",
    "$$\n",
    "\n",
    "式に直すと\n",
    "\n",
    "$$\n",
    "    \\theta^Tx = -50 \\cdot 1 + 4x_1 + 2x_2  \\geq 0 \\\\\n",
    "    2x_2 \\geq 50 - 4x_1 \\\\\n",
    "    x_2 \\geq 25 - 2x_1\n",
    "$$\n",
    "\n",
    "図にすると"
   ]
  },
  {
   "cell_type": "code",
   "execution_count": 6,
   "metadata": {},
   "outputs": [
    {
     "data": {
      "image/png": "[encoded data removed]",
      "text/plain": [
       "<Figure size 360x360 with 1 Axes>"
      ]
     },
     "metadata": {
      "needs_background": "light"
     },
     "output_type": "display_data"
    }
   ],
   "source": [
    "def func(x):\n",
    "    return 20 - 2 * x\n",
    "\n",
    "x = np.arange(-10, 20, 1)\n",
    "y = func(x)\n",
    "\n",
    "fig = plt.figure(figsize=(5.0, 5.0))\n",
    "\n",
    "plt.plot(x, y, color='blue')\n",
    "\n",
    "plt.grid()\n",
    "plt.show()"
   ]
  },
  {
   "cell_type": "markdown",
   "metadata": {},
   "source": [
    "$x_2$ つまり y が大きいときに 1 なのだから、上記グラフの右上に当たる場合は横長と判定するわけだ。  \n",
    "ちなみに前回のデータもプロットすると"
   ]
  },
  {
   "cell_type": "code",
   "execution_count": 8,
   "metadata": {},
   "outputs": [
    {
     "data": {
      "image/png": "[encoded data removed]",
      "text/plain": [
       "<Figure size 360x360 with 1 Axes>"
      ]
     },
     "metadata": {
      "needs_background": "light"
     },
     "output_type": "display_data"
    }
   ],
   "source": [
    "nx = np.array([80, 60, 35, 160, 160, 125])\n",
    "ny = np.array([150, 110, 130, 50, 20, 30])\n",
    "\n",
    "x = np.arange(-10, 20, 1)\n",
    "y = func(x)\n",
    "\n",
    "fig = plt.figure(figsize=(5.0, 5.0))\n",
    "\n",
    "plt.plot(x, y, color='blue')\n",
    "plt.scatter(nx, ny, color='red')\n",
    "\n",
    "plt.grid()\n",
    "plt.show()"
   ]
  },
  {
   "cell_type": "markdown",
   "metadata": {},
   "source": [
    "デフォだと全部横長扱いだぜひゃっほう  \n",
    "で、 $\\theta$ を適当に決めたのが悪いので、これを求めるために、\n",
    "\n",
    "1. 目的関数を作る\n",
    "2. 微分して更新式を求める\n",
    "\n",
    "て事すれば良さげ。\n",
    "\n",
    "### 尤度\n",
    "\n",
    "扱うのは確率なので、それを当てはめて考える。  \n",
    "未知のデータ $x$ が横長である確率を $P(y=1|x) = f_\\theta(x)$ として考える。\n",
    "\n",
    "| 横幅 | 縦幅 | 形 | y | 確率 |\n",
    "|------|------|----|---|---|\n",
    "| 80 | 150 | 縦長 | 0 | $P(y=0|x)$ が最大が理想 |\n",
    "| 60 | 110 | 縦長 | 0 | 同上 |\n",
    "| 35 | 130 | 縦長 | 0 | 同上 |\n",
    "| 160 | 50 | 横長 | 1 | $P(y=1|x)$ が最大が理想 |\n",
    "| 160 | 20 | 横長 | 1 | 同上 |\n",
    "| 125 | 30 | 横長 | 1 | 同上 |\n",
    "\n",
    "この学習データは全部独立して発生すると考えると\n",
    "\n",
    "$$\n",
    "L(\\theta)=P(y^{(1)}=0|x^{(1)})P(y^{(2)}=0|x^{(2)})P(y^{(3)}=0|x^{(3)})P(y^{(4)}=1|x^{(4)})P(y^{(5)}=1|x^{(5)})P(y^{(6)}=0|x^{(6)})\\\\\n",
    "L(\\theta)=\\prod_{i=1}^{N}P(y^{(i)}=1|x^{(i)})^{y^{(i)}}P(y^{(i)}=0|x^{(i)})^{1-y^{(i)}}\n",
    "$$\n",
    "\n",
    "うおぉぉぉおおおお（TT\n",
    "\n",
    "とまれ、$y^{(i)}$ が 0 か 1 にできるなら、２つの $P$ のうち片方だけ残るので、実質間違ってない…ナルホドって感じだが、言われなきゃ出てこねえ（TT\n",
    "\n",
    "この $L(\\theta)$ を尤度というそうな…えっぐ"
   ]
  },
  {
   "cell_type": "markdown",
   "metadata": {},
   "source": [
    "### 対数尤度関数\n",
    "\n",
    "今出た式は同時確率（複数の結果が同時に発生する確率）なので、値が死ぬほど小さくなる。  \n",
    "なんで、対数を取る。\n",
    "\n",
    "$logL(\\theta)$\n",
    "\n",
    "常用対数のグラフは"
   ]
  },
  {
   "cell_type": "code",
   "execution_count": 27,
   "metadata": {},
   "outputs": [
    {
     "data": {
      "image/png": "[encoded data removed]",
      "text/plain": [
       "<Figure size 720x360 with 1 Axes>"
      ]
     },
     "metadata": {
      "needs_background": "light"
     },
     "output_type": "display_data"
    }
   ],
   "source": [
    "x = np.arange(0.0625, 10, 0.0625)  # 1/16 = 0.0625\n",
    "y = np.log(x)\n",
    "\n",
    "fig = plt.figure(figsize=(10.0, 5.0))\n",
    "\n",
    "plt.xlim(-1, 10)\n",
    "plt.ylim(-2, 2)\n",
    "\n",
    "plt.plot(x, y, color='blue')\n",
    "\n",
    "plt.grid()\n",
    "plt.show()"
   ]
  },
  {
   "cell_type": "markdown",
   "metadata": {},
   "source": [
    "これで式変形してくと最終的に\n",
    "\n",
    "$logL(\\theta)=\\sum_{i=1}^{n}( y^{(i)}logf_{\\theta}(x^{(i)}) + (1-y^{(i)})log(1-f_{\\theta}(x^{(i)}) )$\n",
    "\n",
    "これを微分すると\n",
    "\n",
    "$\\frac{\\partial logL(\\theta)}{\\partial \\theta_j} = \\frac{\\partial}{\\partial \\theta_j}\\sum_{i=1}^{n}(x^{(i)}log f_{\\theta}(x^{(i)}) + (1-y^{(i)})log(1 - f_{\\theta}(x^{(i)})))$\n",
    "\n"
   ]
  },
  {
   "cell_type": "markdown",
   "metadata": {},
   "source": []
  }
 ],
 "metadata": {
  "kernelspec": {
   "display_name": "Python 3",
   "language": "python",
   "name": "python3"
  },
  "language_info": {
   "codemirror_mode": {
    "name": "ipython",
    "version": 3
   },
   "file_extension": ".py",
   "mimetype": "text/x-python",
   "name": "python",
   "nbconvert_exporter": "python",
   "pygments_lexer": "ipython3",
   "version": "3.7.4"
  }
 },
 "nbformat": 4,
 "nbformat_minor": 4
}
