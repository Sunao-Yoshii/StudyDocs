{
 "cells": [
  {
   "cell_type": "markdown",
   "metadata": {},
   "source": [
    "## 問題提議\n",
    "\n",
    "四角が存在して、縦長か横長かを判定する。  \n",
    "正直それだけなら座標見れば一発だが、敢えてベクトル的に考えてみる。\n",
    "\n",
    "| 横幅 | 縦幅 | 形 |\n",
    "|------|------|----|\n",
    "| 80 | 150 | 縦長 |\n",
    "| 60 | 110 | 縦長 |\n",
    "| 35 | 130 | 縦長 |\n",
    "| 160 | 50 | 横長 |\n",
    "| 160 | 20 | 横長 |\n",
    "| 125 | 30 | 横長 |\n",
    "\n",
    "これをプロットすると"
   ]
  },
  {
   "cell_type": "code",
   "execution_count": 1,
   "metadata": {},
   "outputs": [
    {
     "data": {
      "image/png": "[encoded data removed]",
      "text/plain": [
       "<Figure size 360x360 with 1 Axes>"
      ]
     },
     "metadata": {
      "needs_background": "light"
     },
     "output_type": "display_data"
    }
   ],
   "source": [
    "import numpy as np\n",
    "import matplotlib.pyplot as plt\n",
    "%matplotlib inline\n",
    "\n",
    "x = np.array([80, 60, 35, 160, 160, 125])\n",
    "y = np.array([150, 110, 130, 50, 20, 30])\n",
    "\n",
    "fig = plt.figure(figsize=(5.0, 5.0)) # グラフサイズ\n",
    "\n",
    "plt.scatter(x, y, marker = 'o')\n",
    "\n",
    "plt.grid()\n",
    "plt.show()"
   ]
  },
  {
   "cell_type": "markdown",
   "metadata": {},
   "source": [
    "これを線引きする直線を求めたい。  \n",
    "これを行列的に求めるなら、`重みベクトルを法線ベクトルとした直線` という言葉になる…らしい。\n",
    "\n",
    "うーん難しい `（；^ω^）`\n",
    "\n",
    "重みベクトルを $w$ とすると直線の方程式は\n",
    "\n",
    "$w \\cdot x=0$ もっというと $w_1 \\cdot x_1 + w_2 \\cdot x_2 = 0$\n",
    "\n",
    "ってなるので、$w = (1, 1)$ と仮定すると　$x_1+ x_2 = 0$ ということは\n",
    "\n",
    "$$x_1 = -x_2$$\n",
    "\n",
    "これを図にすると"
   ]
  },
  {
   "cell_type": "code",
   "execution_count": 2,
   "metadata": {},
   "outputs": [
    {
     "data": {
      "image/png": "[encoded data removed]",
      "text/plain": [
       "<Figure size 360x360 with 1 Axes>"
      ]
     },
     "metadata": {
      "needs_background": "light"
     },
     "output_type": "display_data"
    }
   ],
   "source": [
    "fx = lambda x : -x\n",
    "x = np.arange(-10, 10, 0.5)\n",
    "y = fx(x)\n",
    "\n",
    "fig = plt.figure(figsize=(5.0, 5.0))\n",
    "\n",
    "plt.plot(x, y)\n",
    "\n",
    "# w = (1, 1) も作画\n",
    "plt.quiver(0, 0, 1, 1, angles='xy', scale_units='xy', scale=1)\n",
    "\n",
    "plt.grid()\n",
    "plt.show()"
   ]
  },
  {
   "cell_type": "markdown",
   "metadata": {},
   "source": [
    "この論理で、判定できる関数を学習で習得させる。  \n",
    "目的の重みベクトルを $w$ として、学習式を以下にしてみる。\n",
    "\n",
    "$$\n",
    "w :=\n",
    "  \\begin{cases}\n",
    "     w+y^{(i)}x^{(i)} \\quad f_w(x^{(i)}) \\neq y^{(i)} \\\\\n",
    "     w \\quad\\quad\\quad\\quad f_w(x^{(i)}) = y^{(i)} \\\\\n",
    "  \\end{cases}\n",
    "$$\n",
    "\n",
    "縦長をこのベクトルと内積とったときには正、横長をこのベクトルと内積とったときに負と判定するとして、成功するなら何もしない。  \n",
    "判定に失敗したらベクトルの足し算を行うと…"
   ]
  },
  {
   "cell_type": "code",
   "execution_count": 3,
   "metadata": {},
   "outputs": [
    {
     "data": {
      "text/plain": [
       "[0, 1, 2, 3, 4]"
      ]
     },
     "execution_count": 3,
     "metadata": {},
     "output_type": "execute_result"
    }
   ],
   "source": [
    "list(range(5))"
   ]
  },
  {
   "cell_type": "code",
   "execution_count": 4,
   "metadata": {},
   "outputs": [
    {
     "name": "stdout",
     "output_type": "stream",
     "text": [
      "--------\n",
      "current:[-1 -1]\n",
      "test     :[ 80 150]\n",
      "res        :-230.0\n",
      "update to:[ 79 149]\n",
      "[array([-1, -1]), array([ 79, 149])]\n",
      "--------\n",
      "current:[ 79 149]\n",
      "test     :[ 60 110]\n",
      "res        :21130.0\n",
      "--------\n",
      "current:[ 79 149]\n",
      "test     :[ 35 130]\n",
      "res        :22135.0\n",
      "--------\n",
      "current:[ 79 149]\n",
      "test     :[160  50]\n",
      "res        :20090.0\n",
      "update to:[-81  99]\n",
      "[array([-1, -1]), array([ 79, 149]), array([-81,  99])]\n",
      "--------\n",
      "current:[-81  99]\n",
      "test     :[160  20]\n",
      "res        :-10980.0\n",
      "--------\n",
      "current:[-81  99]\n",
      "test     :[125  30]\n",
      "res        :-7155.0\n"
     ]
    }
   ],
   "source": [
    "from copy import copy\n",
    "\n",
    "# 学習データ\n",
    "values = [\n",
    "    np.array([80, 150]),\n",
    "    np.array([60, 110]),\n",
    "    np.array([35, 130]),\n",
    "    np.array([160, 50]),\n",
    "    np.array([160, 20]),\n",
    "    np.array([125, 30])\n",
    "]\n",
    "actuals = [\n",
    "    True, True, True, False, False, False\n",
    "]\n",
    "\n",
    "# 正規化\n",
    "def normalize(v):\n",
    "#     c = np.linalg.norm(v)  # ベクトルの長さを求めて\n",
    "    return v #(v / c)\n",
    "\n",
    "# 学習データ\n",
    "w = np.array([-1, -1])\n",
    "\n",
    "# 学習の変遷\n",
    "log = [ w ]\n",
    "\n",
    "# 学習関数\n",
    "for n in range(0, 6):\n",
    "    v = normalize(values[n])\n",
    "    actual = actuals[n]\n",
    "    res = np.dot(w, v)\n",
    "    res = float(res)\n",
    "    \n",
    "    print('--------')\n",
    "    print('current:' + str(w))\n",
    "    print('test     :' + str(v))\n",
    "    print('res        :' + str(res))\n",
    "\n",
    "    # 正常判定したら何もしない\n",
    "    if (res > 0) and actual:\n",
    "        continue\n",
    "    elif (res < 0) and (not actual):\n",
    "        continue\n",
    "    \n",
    "    # 判定に失敗してたら更新\n",
    "    if actual:\n",
    "        w = w + v\n",
    "    else:\n",
    "        w = w - v\n",
    "    log.append(copy(w))\n",
    "    print('update to:' + str(w))\n",
    "    \n",
    "    print(log)\n"
   ]
  },
  {
   "cell_type": "markdown",
   "metadata": {},
   "source": [
    "プロットしてみるとこんな感じ。\n",
    "\n",
    "ちなみに最終的な法線ベクトルを入れると"
   ]
  },
  {
   "cell_type": "code",
   "execution_count": 5,
   "metadata": {},
   "outputs": [
    {
     "data": {
      "image/png": "[encoded data removed]",
      "text/plain": [
       "<Figure size 576x576 with 1 Axes>"
      ]
     },
     "metadata": {
      "needs_background": "light"
     },
     "output_type": "display_data"
    }
   ],
   "source": [
    "x = np.array([80, 60, 35, 160, 160, 125])\n",
    "y = np.array([150, 110, 130, 50, 20, 30])\n",
    "\n",
    "def nvec(v):\n",
    "    # 法線ベクトル\n",
    "    # 99 / -81 = -1.2222222222222223\n",
    "    # 81 / 99\n",
    "    return v * 0.8181818181818182\n",
    "\n",
    "nx = np.arange(-180, 180, 1)\n",
    "ny = nvec(nx)\n",
    "\n",
    "# 正規化関数\n",
    "def normalize(v):\n",
    "    c = np.linalg.norm(v)\n",
    "    return (v / c) * 80.0\n",
    "\n",
    "# 計算の過程で出た重みベクトルのリスト\n",
    "plotData = []\n",
    "for v in log:\n",
    "    plotData.append(v)\n",
    "\n",
    "fig = plt.figure(figsize=(8.0, 8.0)) # グラフサイズ\n",
    "plt.xlim(-180, 180)\n",
    "plt.ylim(-180, 180)\n",
    "\n",
    "# 学習データ\n",
    "plt.scatter(x, y, marker = 'o')\n",
    "# 縦長か横長かを判定する法線ベクトル\n",
    "plt.plot(nx, ny, color='blue')\n",
    "\n",
    "# 学習中に出たベクトルの変遷\n",
    "# 赤を基調に、だんだん青が交じる\n",
    "color = [1.0, 0.0, 0.0]\n",
    "bias = 0.2\n",
    "for v in plotData:\n",
    "    plt.quiver(0, 0, v[0], v[1], angles='xy', scale_units='xy', scale=1, color=color)\n",
    "    color[0] = color[0] - bias\n",
    "    color[2] = color[2] + bias\n",
    "\n",
    "\n",
    "plt.grid()\n",
    "plt.show()"
   ]
  },
  {
   "cell_type": "markdown",
   "metadata": {},
   "source": [
    "これで無事青の法線ベクトルが引けた。  \n",
    "当たり前だけど、学習サンプルが完全ではないので、この法線ベクトルでは縦長か横長かを完全に判定することはできない…が、それが縦長か横長かを学習する学習機はこんな感じでやれる。"
   ]
  },
  {
   "cell_type": "code",
   "execution_count": null,
   "metadata": {},
   "outputs": [],
   "source": []
  }
 ],
 "metadata": {
  "kernelspec": {
   "display_name": "Python 3",
   "language": "python",
   "name": "python3"
  },
  "language_info": {
   "codemirror_mode": {
    "name": "ipython",
    "version": 3
   },
   "file_extension": ".py",
   "mimetype": "text/x-python",
   "name": "python",
   "nbconvert_exporter": "python",
   "pygments_lexer": "ipython3",
   "version": "3.7.4"
  }
 },
 "nbformat": 4,
 "nbformat_minor": 4
}
